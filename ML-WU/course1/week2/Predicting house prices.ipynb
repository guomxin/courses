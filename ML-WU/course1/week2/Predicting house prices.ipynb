{
 "cells": [
  {
   "cell_type": "markdown",
   "metadata": {},
   "source": [
    "# Fire up graphlab create"
   ]
  },
  {
   "cell_type": "code",
   "execution_count": 1,
   "metadata": {
    "collapsed": true
   },
   "outputs": [],
   "source": [
    "import graphlab"
   ]
  },
  {
   "cell_type": "markdown",
   "metadata": {},
   "source": [
    "# Load some house sales data\n",
    "\n",
    "Dataset is from house sales in King County, the region where the city of Seattle, WA is located."
   ]
  },
  {
   "cell_type": "code",
   "execution_count": 2,
   "metadata": {
    "collapsed": false
   },
   "outputs": [
    {
     "name": "stderr",
     "output_type": "stream",
     "text": [
      "[INFO] graphlab.cython.cy_server: GraphLab Create v2.1 started. Logging: C:\\Users\\xingm\\AppData\\Local\\Temp\\graphlab_server_1473670309.log.0\n"
     ]
    },
    {
     "name": "stdout",
     "output_type": "stream",
     "text": [
      "This non-commercial license of GraphLab Create for academic use is assigned to guomaoxin@foxmail.com and will expire on September 06, 2017.\n"
     ]
    }
   ],
   "source": [
    "sales = graphlab.SFrame('home_data.gl/')"
   ]
  },
  {
   "cell_type": "code",
   "execution_count": null,
   "metadata": {
    "collapsed": false
   },
   "outputs": [],
   "source": [
    "sales"
   ]
  },
  {
   "cell_type": "markdown",
   "metadata": {},
   "source": [
    "# Exploring the data for housing sales "
   ]
  },
  {
   "cell_type": "markdown",
   "metadata": {},
   "source": [
    "The house price is correlated with the number of square feet of living space."
   ]
  },
  {
   "cell_type": "code",
   "execution_count": 3,
   "metadata": {
    "collapsed": false
   },
   "outputs": [
    {
     "data": {
      "application/javascript": [
       "$(\"head\").append($(\"<link/>\").attr({\n",
       "  rel:  \"stylesheet\",\n",
       "  type: \"text/css\",\n",
       "  href: \"//cdnjs.cloudflare.com/ajax/libs/font-awesome/4.1.0/css/font-awesome.min.css\"\n",
       "}));\n",
       "$(\"head\").append($(\"<link/>\").attr({\n",
       "  rel:  \"stylesheet\",\n",
       "  type: \"text/css\",\n",
       "  href: \"https://static.turi.com/products/graphlab-create/2.1/canvas/css/canvas.css\"\n",
       "}));\n",
       "\n",
       "            (function(){\n",
       "\n",
       "                var e = null;\n",
       "                if (typeof element == 'undefined') {\n",
       "                    var scripts = document.getElementsByTagName('script');\n",
       "                    var thisScriptTag = scripts[scripts.length-1];\n",
       "                    var parentDiv = thisScriptTag.parentNode;\n",
       "                    e = document.createElement('div');\n",
       "                    parentDiv.appendChild(e);\n",
       "                } else {\n",
       "                    e = element[0];\n",
       "                }\n",
       "\n",
       "                if (typeof requirejs !== 'undefined') {\n",
       "                    // disable load timeout; ipython_app.js is large and can take a while to load.\n",
       "                    requirejs.config({waitSeconds: 0});\n",
       "                }\n",
       "\n",
       "                require(['https://static.turi.com/products/graphlab-create/2.1/canvas/js/ipython_app.js'], function(IPythonApp){\n",
       "                    var app = new IPythonApp();\n",
       "                    app.attachView('sframe','Plots', {\"selected_variable\": {\"name\": [\"sales\"], \"descriptives\": {\"rows\": 21613, \"columns\": 21}, \"view_component\": \"Plots\", \"view_file\": \"sframe\", \"view_params\": {\"y\": \"price\", \"x\": \"sqft_living\", \"columns\": [\"id\", \"date\", \"price\", \"bedrooms\", \"bathrooms\", \"sqft_living\", \"sqft_lot\", \"floors\", \"waterfront\", \"view\", \"condition\", \"grade\", \"sqft_above\", \"sqft_basement\", \"yr_built\", \"yr_renovated\", \"zipcode\", \"lat\", \"long\", \"sqft_living15\", \"sqft_lot15\"], \"view\": \"Scatter Plot\"}, \"view_components\": [\"Summary\", \"Table\", \"Bar Chart\", \"BoxWhisker Plot\", \"Line Chart\", \"Scatter Plot\", \"Heat Map\", \"Plots\"], \"type\": \"SFrame\", \"columns\": [{\"dtype\": \"str\", \"name\": \"id\"}, {\"dtype\": \"datetime\", \"name\": \"date\"}, {\"dtype\": \"int\", \"name\": \"price\"}, {\"dtype\": \"str\", \"name\": \"bedrooms\"}, {\"dtype\": \"str\", \"name\": \"bathrooms\"}, {\"dtype\": \"int\", \"name\": \"sqft_living\"}, {\"dtype\": \"int\", \"name\": \"sqft_lot\"}, {\"dtype\": \"str\", \"name\": \"floors\"}, {\"dtype\": \"int\", \"name\": \"waterfront\"}, {\"dtype\": \"int\", \"name\": \"view\"}, {\"dtype\": \"int\", \"name\": \"condition\"}, {\"dtype\": \"int\", \"name\": \"grade\"}, {\"dtype\": \"int\", \"name\": \"sqft_above\"}, {\"dtype\": \"int\", \"name\": \"sqft_basement\"}, {\"dtype\": \"int\", \"name\": \"yr_built\"}, {\"dtype\": \"int\", \"name\": \"yr_renovated\"}, {\"dtype\": \"str\", \"name\": \"zipcode\"}, {\"dtype\": \"float\", \"name\": \"lat\"}, {\"dtype\": \"float\", \"name\": \"long\"}, {\"dtype\": \"float\", \"name\": \"sqft_living15\"}, {\"dtype\": \"float\", \"name\": \"sqft_lot15\"}], \"column_identifiers\": [\"bathrooms\", \"sqft_living15\", \"sqft_above\", \"grade\", \"yr_built\", \"price\", \"bedrooms\", \"zipcode\", \"long\", \"id\", \"sqft_lot15\", \"sqft_living\", \"floors\", \"sqft_lot\", \"date\", \"waterfront\", \"sqft_basement\", \"yr_renovated\", \"lat\", \"condition\", \"view\"]}, \"complete\": 1, \"ipython\": true, \"progress\": 1.0, \"data\": [[1180, 221900], [1730, 460000], [2310, 375000], [2800, 550000], [2700, 385000], [2800, 515000], [1715, 257500], [1720, 508800], [2150, 392500], [2060, 612500], [1640, 1155000], [1160, 468000], [2170, 445000], [1370, 400000], [1940, 299950], [1600, 438200], [2000, 519000], [1280, 183000], [1430, 215000], [2080, 365000], [5320, 1062500], [1180, 310000], [2880, 535000], [2424, 375000], [2320, 360000], [1940, 665000], [2860, 655000], [2360, 370000], [2340, 685000], [1080, 218250], [1600, 268000], [1530, 700180], [4040, 910000], [1010, 289000], [2680, 699000], [4150, 635000], [1490, 745000], [1320, 229000], [1370, 357000], [2620, 605000], [2240, 635000], [1700, 148900], [1210, 215000], [1870, 485000], [1400, 185000], [2060, 746300], [2520, 470000], [1160, 237000], [2540, 760250], [2890, 550000], [5610, 1583000], [2750, 1050000], [1120, 546000], [1660, 545000], [2840, 560000], [2090, 449000], [2250, 292500], [2420, 301000], [3250, 951000], [2940, 845000], [1390, 440000], [2170, 551000], [1410, 355000], [7390, 5300000], [2420, 774888], [3320, 813000], [3420, 780000], [2020, 750000], [2510, 550000], [1480, 856000], [1870, 572000], [2020, 640000], [3180, 760000], [4010, 1735000], [860, 315000], [1580, 195000], [2340, 485000], [2060, 257500], [1120, 439800], [3610, 549900], [3250, 967500], [1930, 570000], [2400, 523000], [1540, 525000], [3030, 509900], [1790, 402000], [3710, 846450], [2800, 375000], [1970, 625000], [790, 169500], [2540, 775000], [1500, 337900], [2600, 1225000], [1630, 540000], [3410, 870000], [1090, 365000], [1690, 464550], [1760, 264000], [1730, 249950], [1990, 627000], [1570, 346500], [1180, 713000], [5610, 995000], [2090, 610000], [930, 269500], [1500, 270000], [2070, 559000], [1640, 540000], [1590, 720000], [4150, 930800], [2310, 597750], [1660, 165000], [1160, 361550], [1650, 500000], [1820, 261000], [2110, 298700], [1210, 299900], [2650, 797000], [1920, 465000], [1560, 549010], [1230, 575000], [2100, 475000], [2590, 808000], [2910, 499990], [1040, 382500], [3840, 1135000], [3110, 580000], [2070, 501000], [1850, 270000], [1930, 407500], [1910, 650000], [1820, 318400], [1470, 241000], [890, 475000], [1030, 267000], [2440, 484000], [1790, 382000], [4510, 960000], [1730, 287000], [910, 570000], [1750, 434000], [2010, 439000], [1190, 417000], [2060, 509500], [2700, 426500], [2470, 338000], [2990, 600000], [1950, 621000], [1050, 250000], [1530, 315000], [1560, 490000], [1870, 325000], [1400, 389000], [2770, 359000], [960, 420850], [1700, 500000], [1690, 337000], [2830, 590000], [3160, 452100], [1900, 315000], [1320, 447000], [1560, 299950], [2160, 435000], [1830, 593000], [2120, 426000], [2130, 260000], [2900, 616000], [2990, 698000], [1220, 380000], [800, 278750], [1840, 235000], [2100, 505000], [940, 520000], [1850, 975000], [2780, 660000], [2660, 589000], [2400, 268000], [2290, 359950], [2770, 907500], [1850, 827000], [1890, 282000], [1070, 425000], [3170, 890776], [1320, 339950], [2400, 338000], [3130, 595000], [2050, 528000], [3640, 895900], [1370, 247200], [2200, 355000], [960, 375000], [1720, 439950], [3230, 834950], [2180, 400000], [2920, 1050000], [1920, 432000], [1400, 340000], [1900, 470000], [2120, 720000], [3090, 602500], [2500, 430000], [1420, 224097], [1090, 152500], [1720, 550388], [2620, 525000], [920, 152000], [1450, 287000], [3120, 730100], [4610, 960000], [2450, 359950], [1990, 575000], [2180, 464000], [2260, 600000], [3920, 1605000], [1210, 357562], [1230, 250000], [2360, 753000], [1410, 415000], [720, 438600], [2140, 680000], [3550, 720000], [900, 305000], [4140, 565000], [2330, 840000], [1850, 515000], [830, 275000], [1320, 292000], [1390, 208800], [1260, 280000], [1572, 299000], [2090, 290000], [3450, 525000], [860, 330000], [2880, 525000], [1410, 229950], [2830, 605500], [2290, 365000], [1970, 410000], [1120, 464600], [1230, 200000], [2540, 525000], [830, 210000], [2290, 347500], [1700, 520000], [1430, 210000], [1510, 199000], [1530, 302000], [2400, 300000], [1360, 348500], [2630, 710000], [1570, 525000], [2720, 752500], [1530, 467000], [910, 254000], [1170, 360000], [4390, 1510000], [2830, 527000], [1730, 268000], [1400, 815000], [3060, 657000], [960, 406000], [1180, 347500], [1860, 505000], [3200, 712000], [1800, 180500], [1340, 474905], [1890, 1430000], [3700, 889950], [1060, 340000], [4110, 1042031], [5310, 1365000], [1040, 436000], [1490, 256400], [2520, 825000], [2410, 625000], [1640, 492000], [2090, 300000], [1520, 333000], [770, 220000], [1270, 611000], [1960, 340000], [1140, 268500], [1040, 600000], [710, 245000], [1050, 206000], [2500, 585000], [2780, 834500], [1410, 279800], [2310, 395000], [3320, 959000], [830, 425000], [2950, 630000], [1453, 460000], [3150, 815000], [1010, 350000], [2450, 510000], [1070, 542000], [3130, 840000], [720, 295000], [2130, 616000], [2140, 375000], [2560, 470950], [3150, 614000], [1440, 210000], [2610, 1049000], [2320, 324950], [1140, 294570], [2580, 1099500], [2750, 510000], [1620, 258000], [4930, 835000], [2120, 285000], [1570, 208400], [1270, 212500], [2650, 1050000], [1810, 501000], [2070, 565000], [1140, 576000], [3260, 800000], [1960, 367500], [2710, 1250000], [2110, 585000], [3510, 674950], [1510, 240000], [1930, 530000], [820, 527550], [1590, 665000], [2170, 802000], [2500, 525000], [2390, 380000], [2780, 710000], [2070, 535100], [1390, 299000], [1770, 345000], [2100, 505000], [2130, 850000], [1890, 400000], [3530, 910000], [1040, 370000], [1650, 559000], [1540, 275000], [2530, 435000], [1660, 380000], [1620, 750000], [2440, 518000], [1250, 200000], [2350, 555000], [1840, 432100], [1760, 450000], [2390, 267500], [1990, 178000], [1430, 462600], [2860, 666500], [1770, 373000], [1890, 398000], [1660, 209950], [1910, 300000], [4600, 800000], [2990, 1061604], [2450, 500000], [2230, 699950], [2170, 442500], [2800, 739000], [1470, 602000], [2410, 635000], [1950, 440000], [2990, 673000], [1060, 346000], [1050, 350000], [2115, 272000], [1970, 402000], [1120, 265000], [2180, 530000], [670, 250000], [2380, 495000], [1560, 194990], [1530, 418000], [2280, 349000], [1790, 393000], [1435, 390000], [1380, 270000], [1180, 179500], [2680, 460000], [2890, 930000], [3580, 1150000], [1150, 338500], [1410, 365500], [2270, 656000], [1960, 405000], [970, 425000], [1790, 366000], [2500, 235000], [1980, 475000], [1230, 184900], [1580, 315000], [2820, 850000], [1730, 243400], [1020, 219950], [2160, 378750], [1720, 206000], [1770, 242500], [2260, 705000], [1770, 355000], [2590, 537250], [1280, 539000], [2680, 475000], [990, 158000], [1330, 399950], [1930, 364950], [2090, 555000], [1550, 268000], [910, 244500], [880, 230000], [2260, 660000], [1900, 550000], [2750, 895000], [1200, 213000], [6880, 1488000], [1980, 307550], [1090, 265000], [2910, 620000], [3920, 965000], [1230, 349950], [3570, 895000], [1909, 630500], [2190, 349000], [2710, 495200], [2420, 380000], [1500, 243000], [1900, 415000], [1450, 402000], [3020, 754000], [1830, 249000], [1940, 815000], [1560, 324950], [4360, 795127], [1660, 315000], [2460, 240000], [2890, 570000], [3410, 585000], [3020, 1272000], [1440, 258950], [1470, 630000], [1620, 481000], [3530, 874150], [1080, 485000], [1210, 219950], [2370, 435000], [1580, 253000], [1680, 260000], [3490, 1311000], [670, 435000], [1400, 232000], [1940, 505000], [1150, 252500], [3080, 775000], [1410, 700000], [1000, 220000], [2060, 457000], [1900, 650000], [760, 380000], [2240, 276000], [2150, 800000], [3860, 880000], [2570, 1005000], [2470, 811000], [1600, 490000], [1550, 525000], [980, 575000], [2783, 840000], [1590, 290000], [2620, 615000], [4400, 1150000], [1370, 301950], [2030, 565000], [1600, 315000], [3540, 1348000], [1502, 403000], [1520, 279950], [1400, 710000], [1440, 350000], [2010, 479990], [2242, 328000], [2420, 655000], [1690, 295000], [2440, 730000], [1600, 205000], [840, 350000], [1610, 270000], [1660, 368000], [720, 270000], [2820, 485000], [1300, 232000], [2575, 359000], [7350, 1110000], [1370, 605004], [1730, 435000], [2060, 348000], [670, 348000], [1540, 420000], [2130, 645000], [860, 199988], [2700, 652500], [1520, 400000], [1380, 209950], [1160, 306000], [2420, 370000], [1640, 405000], [1660, 410000], [1570, 500000], [3230, 1385000], [2010, 1000000], [1260, 277500], [1140, 570000], [2610, 925000], [2260, 532000], [3820, 1620000], [1030, 229000], [1660, 605000], [1800, 439000], [3150, 1003000], [2260, 925000], [2530, 515000], [3000, 515000], [1490, 305000], [3130, 999000], [1580, 254999], [1830, 300000], [970, 205950], [2235, 337000], [1110, 279000], [1820, 750000], [2720, 429000], [840, 190000], [1650, 434500], [1040, 325000], [2320, 694000], [2500, 330000], [2220, 607500], [930, 351000], [590, 398000], [2640, 632500], [1920, 595000], [1440, 330000], [2900, 865000], [1840, 317000], [750, 250000], [3010, 433495], [2300, 315000], [2100, 299900], [1190, 350000], [1970, 460000], [1240, 699999], [1150, 203000], [1400, 210000], [1940, 545000], [810, 505000], [760, 289950], [2240, 327500], [1680, 530000], [3800, 450000], [2350, 430000], [4190, 910000], [3870, 900000], [2280, 445000], [2870, 720000], [1930, 581000], [1380, 365000], [1100, 157500], [990, 325000], [2240, 290000], [3080, 365000], [2400, 325000], [1530, 525000], [1070, 386950], [800, 230000], [2540, 652500], [1900, 536000], [2780, 870000], [1550, 349900], [2660, 768000], [1240, 520000], [1700, 290000], [2730, 350000], [5350, 3345000], [1910, 1125000], [3220, 825000], [2480, 579000], [2480, 525000], [1840, 248000], [1210, 570000], [1680, 250000], [1450, 375000], [2150, 360000], [1800, 632750], [1360, 499950], [4420, 2700000], [2720, 680000], [1458, 620000], [2960, 500000], [2420, 1490000], [3560, 1395000], [2150, 569000], [1800, 471001], [2530, 785950], [2620, 600000], [1270, 531000], [3620, 825000], [2530, 525000], [2200, 396800], [2100, 375000], [2720, 940000], [2510, 450800], [2410, 550000], [3190, 780000], [1620, 425000], [2630, 567000], [1370, 431500], [770, 345000], [1590, 355000], [2720, 850000], [1680, 252000], [2580, 699000], [1440, 224000], [1880, 340000], [5730, 1228000], [3560, 896000], [6390, 2466350], [1270, 543500], [890, 510000], [960, 218000], [1170, 564000], [1420, 523950], [1510, 516130], [1540, 430000], [3100, 735000], [2160, 590000], [1830, 284000], [2050, 314500], [1080, 219000], [1530, 245000], [1010, 269000], [2920, 810000], [1240, 230000], [1550, 623500], [1790, 809000], [2730, 489500], [1940, 520000], [2500, 575000], [2300, 610000], [2590, 355000], [1500, 419000], [3510, 1255000], [2450, 450000], [2050, 623000], [2200, 325000], [2550, 808000], [2460, 357000], [1560, 500000], [2040, 1272500], [2620, 900000], [2700, 690000], [1340, 255000], [1490, 271000], [2330, 580000], [1420, 425000], [2090, 659000], [2160, 753000], [1370, 593500], [2570, 254500], [1240, 324950], [1090, 249950], [2370, 300523], [1390, 342000], [1420, 535000], [2560, 750000], [4210, 937500], [740, 299500], [1840, 645000], [1840, 650000], [1050, 187000], [1730, 339950], [1350, 251000], [1360, 244000], [1470, 415000], [1570, 439995], [2050, 568000], [1520, 241000], [2840, 735000], [2100, 506000], [3220, 697000], [1040, 399950], [1760, 440000], [1930, 490000], [1310, 514950], [3490, 1675000], [4340, 1090000], [1910, 189950], [2030, 365000], [2110, 689000], [4450, 845950], [3100, 700000], [5330, 1125000], [1450, 234950], [2020, 459000], [1190, 319500], [1240, 319950], [930, 355000], [4500, 1515000], [2200, 339950], [2480, 399000], [2240, 335000], [2210, 639000], [1820, 299500], [1920, 391500], [3760, 851000], [2490, 270000], [1200, 420000], [1870, 592500], [1300, 267000], [2100, 277950], [1550, 453500], [1660, 450000], [2090, 275000], [2500, 580000], [1550, 510000], [2570, 399950], [4590, 3000000], [2300, 465000], [1170, 200000], [3090, 551000], [3200, 605000], [2110, 315000], [760, 167500], [2910, 780000], [2000, 440000], [2320, 400950], [2230, 740000], [3580, 665000], [1610, 225000], [2200, 216600], [1510, 335000], [2680, 1355000], [3180, 440000], [1700, 400000], [1640, 602000], [3040, 735000], [1670, 710200], [3790, 471750], [1650, 251000], [2550, 855000], [2200, 515000], [2270, 526750], [1260, 270000], [1380, 285000], [1170, 480000], [1520, 190000], [1980, 479900], [3150, 649500], [2830, 405600], [2250, 411000], [2290, 367950], [2950, 619000], [900, 370000], [670, 245000], [2610, 373500], [1340, 376000], [1180, 517000], [1350, 455000], [1310, 500000], [1130, 672000], [1600, 475000], [1940, 465250], [5540, 2630000], [2140, 230000], [970, 156000], [2390, 350000], [1020, 393000], [3650, 1575000], [3655, 740000], [1650, 710000], [2290, 436500], [1200, 263700], [4560, 1100000], [1780, 325000], [1230, 425000], [1260, 490000], [1650, 465000], [3180, 1505000], [1830, 354000], [2800, 915000], [2650, 325000], [3830, 1100000], [3450, 1035000], [1980, 637000], [1330, 300000], [3200, 737500], [1490, 275000], [1890, 375000], [2960, 1161000], [2050, 427000], [2670, 750000], [1870, 314000], [2450, 605000], [1620, 620000], [2340, 330000], [1100, 286000], [1720, 399950], [2200, 268450], [1390, 261350], [1660, 350000], [2210, 1100000], [6510, 1900000], [1790, 258000], [2500, 300000], [2560, 350000], [840, 96500], [1040, 425000], [1140, 704000], [1650, 255000], [2390, 270000], [2030, 310950], [3840, 612000], [2940, 950000], [1230, 329000], [1160, 375000], [1530, 360000], [1300, 431000], [3350, 844000], [2010, 495500], [1500, 219950], [3570, 2200000], [3330, 555000], [2670, 535000], [2340, 476000], [900, 470000], [1460, 330000], [1820, 287000], [1770, 327500], [1210, 237000], [2760, 675000], [1490, 316000], [3420, 855000], [2520, 387846], [1250, 170000], [1640, 352000], [1640, 375000], [690, 340000], [2320, 650000], [2070, 254000], [1900, 535800], [4650, 985000], [900, 329950], [2830, 1086000], [710, 480000], [1380, 230000], [1200, 210000], [2980, 450000], [2120, 645000], [2110, 385000], [3520, 828000], [2578, 400950], [1530, 317000], [1120, 100000], [2180, 657000], [1420, 275000], [3176, 819000], [2100, 1081000], [1890, 385000], [1710, 250500], [1840, 575000], [3480, 2500000], [1490, 510000], [1660, 680000], [2850, 450000], [1050, 195000], [2070, 690000], [3130, 745000], [1390, 550000], [1910, 412450], [2790, 450000], [830, 235000], [1950, 425000], [2040, 720000], [2710, 615000], [1160, 330000], [2070, 741000], [1420, 293000], [2380, 986000], [1940, 480000], [1960, 792500], [1370, 175000], [2870, 399000], [1090, 340000], [2220, 654000], [1150, 415950], [1100, 280000], [1080, 440000], [2130, 686000], [3540, 550000], [1290, 275000], [1390, 186950], [2700, 580000], [2630, 340000], [3370, 813000], [810, 253500], [2300, 498000], [2970, 400000], [2160, 900000], [1960, 509000], [1950, 310000], [3560, 486000], [2210, 500000], [2820, 625000], [3370, 900000], [2220, 410000], [1790, 790000], [1420, 136500], [2643, 376950], [1200, 450000], [2410, 330000], [1180, 664950], [3190, 1700000], [1600, 488000], [1770, 360000], [1860, 380000], [960, 319000], [2680, 400000], [2370, 330000], [2860, 650000], [2610, 378000], [3400, 951000], [1010, 675000], [2080, 616500], [1460, 465000], [1250, 338000], [2550, 465000], [1870, 770000], [1220, 300000], [2000, 325000], [1590, 285000], [900, 465000], [2910, 450000], [2270, 735000], [1000, 424950], [1100, 450000], [6550, 1500000], [1650, 550000], [1940, 362500], [2110, 535000], [1850, 445000], [2560, 619000], [1490, 460500], [1900, 431500], [3130, 851000], [2080, 474950], [4070, 2298000], [1750, 808250], [2540, 269950], [1520, 375000], [900, 174000], [2000, 284950], [1720, 547000], [1410, 267800], [5660, 955000], [1040, 440000], [3110, 960000], [1700, 545000], [910, 465000], [1720, 550000], [1200, 290000], [940, 230000], [2620, 742500], [1600, 345000], [2340, 677500], [2650, 850000], [1230, 340000], [1570, 660000], [1300, 287000], [1030, 427200], [2400, 575000], [1460, 430000], [2570, 889000], [1489, 265000], [1110, 371000], [2440, 700000], [1000, 610000], [2770, 285000], [1500, 399000], [1530, 164000], [1650, 369500], [1420, 413107], [770, 497000], [1870, 700000], [2120, 317000], [2750, 375000], [2130, 361000], [1950, 428000], [790, 169317], [2670, 430000]], \"columns\": [{\"dtype\": \"str\", \"name\": \"id\"}, {\"dtype\": \"datetime\", \"name\": \"date\"}, {\"dtype\": \"int\", \"name\": \"price\"}, {\"dtype\": \"str\", \"name\": \"bedrooms\"}, {\"dtype\": \"str\", \"name\": \"bathrooms\"}, {\"dtype\": \"int\", \"name\": \"sqft_living\"}, {\"dtype\": \"int\", \"name\": \"sqft_lot\"}, {\"dtype\": \"str\", \"name\": \"floors\"}, {\"dtype\": \"int\", \"name\": \"waterfront\"}, {\"dtype\": \"int\", \"name\": \"view\"}, {\"dtype\": \"int\", \"name\": \"condition\"}, {\"dtype\": \"int\", \"name\": \"grade\"}, {\"dtype\": \"int\", \"name\": \"sqft_above\"}, {\"dtype\": \"int\", \"name\": \"sqft_basement\"}, {\"dtype\": \"int\", \"name\": \"yr_built\"}, {\"dtype\": \"int\", \"name\": \"yr_renovated\"}, {\"dtype\": \"str\", \"name\": \"zipcode\"}, {\"dtype\": \"float\", \"name\": \"lat\"}, {\"dtype\": \"float\", \"name\": \"long\"}, {\"dtype\": \"float\", \"name\": \"sqft_living15\"}, {\"dtype\": \"float\", \"name\": \"sqft_lot15\"}]}, e);\n",
       "                });\n",
       "            })();\n",
       "        "
      ]
     },
     "metadata": {},
     "output_type": "display_data"
    }
   ],
   "source": [
    "graphlab.canvas.set_target('ipynb')\n",
    "sales.show(view=\"Scatter Plot\", x=\"sqft_living\", y=\"price\")"
   ]
  },
  {
   "cell_type": "markdown",
   "metadata": {},
   "source": [
    "# Create a simple regression model of sqft_living to price"
   ]
  },
  {
   "cell_type": "markdown",
   "metadata": {},
   "source": [
    "Split data into training and testing.  \n",
    "We use seed=0 so that everyone running this notebook gets the same results.  In practice, you may set a random seed (or let GraphLab Create pick a random seed for you).  "
   ]
  },
  {
   "cell_type": "code",
   "execution_count": 7,
   "metadata": {
    "collapsed": true
   },
   "outputs": [],
   "source": [
    "train_data,test_data = sales.random_split(.8,seed=0)"
   ]
  },
  {
   "cell_type": "markdown",
   "metadata": {},
   "source": [
    "## Build the regression model using only sqft_living as a feature"
   ]
  },
  {
   "cell_type": "code",
   "execution_count": null,
   "metadata": {
    "collapsed": false
   },
   "outputs": [],
   "source": [
    "sqft_model = graphlab.linear_regression.create(train_data, target='price', features=['sqft_living'],validation_set=None)"
   ]
  },
  {
   "cell_type": "markdown",
   "metadata": {},
   "source": [
    "#Evaluate the simple model"
   ]
  },
  {
   "cell_type": "code",
   "execution_count": null,
   "metadata": {
    "collapsed": false
   },
   "outputs": [],
   "source": [
    "print test_data['price'].mean()"
   ]
  },
  {
   "cell_type": "code",
   "execution_count": null,
   "metadata": {
    "collapsed": false
   },
   "outputs": [],
   "source": [
    "print sqft_model.evaluate(test_data)"
   ]
  },
  {
   "cell_type": "markdown",
   "metadata": {},
   "source": [
    "RMSE of about \\$255,170!"
   ]
  },
  {
   "cell_type": "markdown",
   "metadata": {},
   "source": [
    "# Let's show what our predictions look like"
   ]
  },
  {
   "cell_type": "markdown",
   "metadata": {},
   "source": [
    "Matplotlib is a Python plotting library that is also useful for plotting.  You can install it with:\n",
    "\n",
    "'pip install matplotlib'"
   ]
  },
  {
   "cell_type": "code",
   "execution_count": null,
   "metadata": {
    "collapsed": false
   },
   "outputs": [],
   "source": [
    "import matplotlib.pyplot as plt\n",
    "%matplotlib inline"
   ]
  },
  {
   "cell_type": "code",
   "execution_count": null,
   "metadata": {
    "collapsed": false
   },
   "outputs": [],
   "source": [
    "plt.plot(test_data['sqft_living'],test_data['price'],'.',\n",
    "        test_data['sqft_living'],sqft_model.predict(test_data),'-')"
   ]
  },
  {
   "cell_type": "markdown",
   "metadata": {},
   "source": [
    "Above:  blue dots are original data, green line is the prediction from the simple regression.\n",
    "\n",
    "Below: we can view the learned regression coefficients. "
   ]
  },
  {
   "cell_type": "code",
   "execution_count": null,
   "metadata": {
    "collapsed": false
   },
   "outputs": [],
   "source": [
    "sqft_model.get('coefficients')"
   ]
  },
  {
   "cell_type": "markdown",
   "metadata": {},
   "source": [
    "# Explore other features in the data\n",
    "\n",
    "To build a more elaborate model, we will explore using more features."
   ]
  },
  {
   "cell_type": "code",
   "execution_count": 9,
   "metadata": {
    "collapsed": true
   },
   "outputs": [],
   "source": [
    "my_features = ['bedrooms', 'bathrooms', 'sqft_living', 'sqft_lot', 'floors', 'zipcode']"
   ]
  },
  {
   "cell_type": "code",
   "execution_count": null,
   "metadata": {
    "collapsed": false
   },
   "outputs": [],
   "source": [
    "sales[my_features].show()"
   ]
  },
  {
   "cell_type": "code",
   "execution_count": null,
   "metadata": {
    "collapsed": false
   },
   "outputs": [],
   "source": [
    "sales.show(view='BoxWhisker Plot', x='zipcode', y='price')"
   ]
  },
  {
   "cell_type": "markdown",
   "metadata": {},
   "source": [
    "Pull the bar at the bottom to view more of the data.  \n",
    "\n",
    "98039 is the most expensive zip code."
   ]
  },
  {
   "cell_type": "markdown",
   "metadata": {},
   "source": [
    "# ----- Assignment ----- START"
   ]
  },
  {
   "cell_type": "markdown",
   "metadata": {},
   "source": [
    "## Quiz 1. Selection and summary statistics"
   ]
  },
  {
   "cell_type": "code",
   "execution_count": 4,
   "metadata": {
    "collapsed": false
   },
   "outputs": [
    {
     "data": {
      "text/plain": [
       "2160606.5999999996"
      ]
     },
     "execution_count": 4,
     "metadata": {},
     "output_type": "execute_result"
    }
   ],
   "source": [
    "sales[sales['zipcode'] == '98039']['price'].mean()"
   ]
  },
  {
   "cell_type": "markdown",
   "metadata": {},
   "source": [
    "## Quiz 2. Filtering data"
   ]
  },
  {
   "cell_type": "code",
   "execution_count": 5,
   "metadata": {
    "collapsed": false
   },
   "outputs": [
    {
     "name": "stdout",
     "output_type": "stream",
     "text": [
      "9118 21613 42.19% 42.19%\n"
     ]
    }
   ],
   "source": [
    "filtered_count = sales[(sales['sqft_living'] > 2000) & (sales['sqft_living'] <= 4000)].num_rows()\n",
    "filtered_count_2 = sales[sales['sqft_living'].apply(lambda x: x > 2000 and x <= 4000)].num_rows()\n",
    "count = sales.num_rows()\n",
    "print filtered_count, count, '{0:.2f}%'.format(float(filtered_count) / count * 100), '{0:.2f}%'.format(float(filtered_count_2) / count * 100) "
   ]
  },
  {
   "cell_type": "markdown",
   "metadata": {},
   "source": [
    "## Quiz 3. Building a regression model with several more features"
   ]
  },
  {
   "cell_type": "code",
   "execution_count": 6,
   "metadata": {
    "collapsed": false
   },
   "outputs": [],
   "source": [
    "advanced_features = [\n",
    "'bedrooms', 'bathrooms', 'sqft_living', 'sqft_lot', 'floors', 'zipcode',\n",
    "'condition', # condition of house\t\t\t\t\n",
    "'grade', # measure of quality of construction\t\t\t\t\n",
    "'waterfront', # waterfront property\t\t\t\t\n",
    "'view', # type of view\t\t\t\t\n",
    "'sqft_above', # square feet above ground\t\t\t\t\n",
    "'sqft_basement', # square feet in basement\t\t\t\t\n",
    "'yr_built', # the year built\t\t\t\t\n",
    "'yr_renovated', # the year renovated\t\t\t\t\n",
    "'lat', 'long', # the lat-long of the parcel\t\t\t\t\n",
    "'sqft_living15', # average sq.ft. of 15 nearest neighbors \t\t\t\t\n",
    "'sqft_lot15', # average lot size of 15 nearest neighbors \n",
    "]"
   ]
  },
  {
   "cell_type": "code",
   "execution_count": 10,
   "metadata": {
    "collapsed": false
   },
   "outputs": [
    {
     "data": {
      "text/html": [
       "<pre>Linear regression:</pre>"
      ],
      "text/plain": [
       "Linear regression:"
      ]
     },
     "metadata": {},
     "output_type": "display_data"
    },
    {
     "data": {
      "text/html": [
       "<pre>--------------------------------------------------------</pre>"
      ],
      "text/plain": [
       "--------------------------------------------------------"
      ]
     },
     "metadata": {},
     "output_type": "display_data"
    },
    {
     "data": {
      "text/html": [
       "<pre>Number of examples          : 17384</pre>"
      ],
      "text/plain": [
       "Number of examples          : 17384"
      ]
     },
     "metadata": {},
     "output_type": "display_data"
    },
    {
     "data": {
      "text/html": [
       "<pre>Number of features          : 6</pre>"
      ],
      "text/plain": [
       "Number of features          : 6"
      ]
     },
     "metadata": {},
     "output_type": "display_data"
    },
    {
     "data": {
      "text/html": [
       "<pre>Number of unpacked features : 6</pre>"
      ],
      "text/plain": [
       "Number of unpacked features : 6"
      ]
     },
     "metadata": {},
     "output_type": "display_data"
    },
    {
     "data": {
      "text/html": [
       "<pre>Number of coefficients    : 115</pre>"
      ],
      "text/plain": [
       "Number of coefficients    : 115"
      ]
     },
     "metadata": {},
     "output_type": "display_data"
    },
    {
     "data": {
      "text/html": [
       "<pre>Starting Newton Method</pre>"
      ],
      "text/plain": [
       "Starting Newton Method"
      ]
     },
     "metadata": {},
     "output_type": "display_data"
    },
    {
     "data": {
      "text/html": [
       "<pre>--------------------------------------------------------</pre>"
      ],
      "text/plain": [
       "--------------------------------------------------------"
      ]
     },
     "metadata": {},
     "output_type": "display_data"
    },
    {
     "data": {
      "text/html": [
       "<pre>+-----------+----------+--------------+--------------------+---------------+</pre>"
      ],
      "text/plain": [
       "+-----------+----------+--------------+--------------------+---------------+"
      ]
     },
     "metadata": {},
     "output_type": "display_data"
    },
    {
     "data": {
      "text/html": [
       "<pre>| Iteration | Passes   | Elapsed Time | Training-max_error | Training-rmse |</pre>"
      ],
      "text/plain": [
       "| Iteration | Passes   | Elapsed Time | Training-max_error | Training-rmse |"
      ]
     },
     "metadata": {},
     "output_type": "display_data"
    },
    {
     "data": {
      "text/html": [
       "<pre>+-----------+----------+--------------+--------------------+---------------+</pre>"
      ],
      "text/plain": [
       "+-----------+----------+--------------+--------------------+---------------+"
      ]
     },
     "metadata": {},
     "output_type": "display_data"
    },
    {
     "data": {
      "text/html": [
       "<pre>| 1         | 2        | 1.043060     | 3763208.270523     | 181908.848367 |</pre>"
      ],
      "text/plain": [
       "| 1         | 2        | 1.043060     | 3763208.270523     | 181908.848367 |"
      ]
     },
     "metadata": {},
     "output_type": "display_data"
    },
    {
     "data": {
      "text/html": [
       "<pre>+-----------+----------+--------------+--------------------+---------------+</pre>"
      ],
      "text/plain": [
       "+-----------+----------+--------------+--------------------+---------------+"
      ]
     },
     "metadata": {},
     "output_type": "display_data"
    },
    {
     "data": {
      "text/html": [
       "<pre>SUCCESS: Optimal solution found.</pre>"
      ],
      "text/plain": [
       "SUCCESS: Optimal solution found."
      ]
     },
     "metadata": {},
     "output_type": "display_data"
    },
    {
     "data": {
      "text/html": [
       "<pre></pre>"
      ],
      "text/plain": []
     },
     "metadata": {},
     "output_type": "display_data"
    }
   ],
   "source": [
    "my_features_model = graphlab.linear_regression.create(train_data,target='price',features=my_features,validation_set=None)\n",
    "result = my_features_model.evaluate(test_data)"
   ]
  },
  {
   "cell_type": "code",
   "execution_count": 11,
   "metadata": {
    "collapsed": false
   },
   "outputs": [
    {
     "data": {
      "text/html": [
       "<pre>Linear regression:</pre>"
      ],
      "text/plain": [
       "Linear regression:"
      ]
     },
     "metadata": {},
     "output_type": "display_data"
    },
    {
     "data": {
      "text/html": [
       "<pre>--------------------------------------------------------</pre>"
      ],
      "text/plain": [
       "--------------------------------------------------------"
      ]
     },
     "metadata": {},
     "output_type": "display_data"
    },
    {
     "data": {
      "text/html": [
       "<pre>Number of examples          : 17384</pre>"
      ],
      "text/plain": [
       "Number of examples          : 17384"
      ]
     },
     "metadata": {},
     "output_type": "display_data"
    },
    {
     "data": {
      "text/html": [
       "<pre>Number of features          : 18</pre>"
      ],
      "text/plain": [
       "Number of features          : 18"
      ]
     },
     "metadata": {},
     "output_type": "display_data"
    },
    {
     "data": {
      "text/html": [
       "<pre>Number of unpacked features : 18</pre>"
      ],
      "text/plain": [
       "Number of unpacked features : 18"
      ]
     },
     "metadata": {},
     "output_type": "display_data"
    },
    {
     "data": {
      "text/html": [
       "<pre>Number of coefficients    : 127</pre>"
      ],
      "text/plain": [
       "Number of coefficients    : 127"
      ]
     },
     "metadata": {},
     "output_type": "display_data"
    },
    {
     "data": {
      "text/html": [
       "<pre>Starting Newton Method</pre>"
      ],
      "text/plain": [
       "Starting Newton Method"
      ]
     },
     "metadata": {},
     "output_type": "display_data"
    },
    {
     "data": {
      "text/html": [
       "<pre>--------------------------------------------------------</pre>"
      ],
      "text/plain": [
       "--------------------------------------------------------"
      ]
     },
     "metadata": {},
     "output_type": "display_data"
    },
    {
     "data": {
      "text/html": [
       "<pre>+-----------+----------+--------------+--------------------+---------------+</pre>"
      ],
      "text/plain": [
       "+-----------+----------+--------------+--------------------+---------------+"
      ]
     },
     "metadata": {},
     "output_type": "display_data"
    },
    {
     "data": {
      "text/html": [
       "<pre>| Iteration | Passes   | Elapsed Time | Training-max_error | Training-rmse |</pre>"
      ],
      "text/plain": [
       "| Iteration | Passes   | Elapsed Time | Training-max_error | Training-rmse |"
      ]
     },
     "metadata": {},
     "output_type": "display_data"
    },
    {
     "data": {
      "text/html": [
       "<pre>+-----------+----------+--------------+--------------------+---------------+</pre>"
      ],
      "text/plain": [
       "+-----------+----------+--------------+--------------------+---------------+"
      ]
     },
     "metadata": {},
     "output_type": "display_data"
    },
    {
     "data": {
      "text/html": [
       "<pre>| 1         | 2        | 0.067003     | 3469012.450686     | 154580.940736 |</pre>"
      ],
      "text/plain": [
       "| 1         | 2        | 0.067003     | 3469012.450686     | 154580.940736 |"
      ]
     },
     "metadata": {},
     "output_type": "display_data"
    },
    {
     "data": {
      "text/html": [
       "<pre>+-----------+----------+--------------+--------------------+---------------+</pre>"
      ],
      "text/plain": [
       "+-----------+----------+--------------+--------------------+---------------+"
      ]
     },
     "metadata": {},
     "output_type": "display_data"
    },
    {
     "data": {
      "text/html": [
       "<pre>SUCCESS: Optimal solution found.</pre>"
      ],
      "text/plain": [
       "SUCCESS: Optimal solution found."
      ]
     },
     "metadata": {},
     "output_type": "display_data"
    },
    {
     "data": {
      "text/html": [
       "<pre></pre>"
      ],
      "text/plain": []
     },
     "metadata": {},
     "output_type": "display_data"
    }
   ],
   "source": [
    "advanced_features_model = graphlab.linear_regression.create(train_data,target='price',features=advanced_features,validation_set=None)\n",
    "result_advanced = advanced_features_model.evaluate(test_data)"
   ]
  },
  {
   "cell_type": "code",
   "execution_count": 12,
   "metadata": {
    "collapsed": false
   },
   "outputs": [
    {
     "name": "stdout",
     "output_type": "stream",
     "text": [
      "{'max_error': 3486584.509381705, 'rmse': 179542.4333126903} {'max_error': 3556849.413858208, 'rmse': 156831.1168021901}\n"
     ]
    },
    {
     "data": {
      "text/plain": [
       "22711.316510500183"
      ]
     },
     "execution_count": 12,
     "metadata": {},
     "output_type": "execute_result"
    }
   ],
   "source": [
    "print result, result_advanced\n",
    "result['rmse'] - result_advanced['rmse']"
   ]
  },
  {
   "cell_type": "markdown",
   "metadata": {},
   "source": [
    "# ----- Assignment ----- END"
   ]
  },
  {
   "cell_type": "markdown",
   "metadata": {},
   "source": [
    "#Build a regression model with more features"
   ]
  },
  {
   "cell_type": "code",
   "execution_count": null,
   "metadata": {
    "collapsed": false
   },
   "outputs": [],
   "source": [
    "my_features_model = graphlab.linear_regression.create(train_data,target='price',features=my_features,validation_set=None)"
   ]
  },
  {
   "cell_type": "code",
   "execution_count": null,
   "metadata": {
    "collapsed": false
   },
   "outputs": [],
   "source": [
    "print my_features"
   ]
  },
  {
   "cell_type": "markdown",
   "metadata": {},
   "source": [
    "##Comparing the results of the simple model with adding more features"
   ]
  },
  {
   "cell_type": "code",
   "execution_count": null,
   "metadata": {
    "collapsed": false
   },
   "outputs": [],
   "source": [
    "print sqft_model.evaluate(test_data)\n",
    "print my_features_model.evaluate(test_data)"
   ]
  },
  {
   "cell_type": "markdown",
   "metadata": {},
   "source": [
    "The RMSE goes down from \\$255,170 to \\$179,508 with more features."
   ]
  },
  {
   "cell_type": "markdown",
   "metadata": {},
   "source": [
    "#Apply learned models to predict prices of 3 houses"
   ]
  },
  {
   "cell_type": "markdown",
   "metadata": {},
   "source": [
    "The first house we will use is considered an \"average\" house in Seattle. "
   ]
  },
  {
   "cell_type": "code",
   "execution_count": null,
   "metadata": {
    "collapsed": true
   },
   "outputs": [],
   "source": [
    "house1 = sales[sales['id']=='5309101200']"
   ]
  },
  {
   "cell_type": "code",
   "execution_count": null,
   "metadata": {
    "collapsed": false
   },
   "outputs": [],
   "source": [
    "house1"
   ]
  },
  {
   "cell_type": "markdown",
   "metadata": {},
   "source": [
    "<img src=\"http://info.kingcounty.gov/Assessor/eRealProperty/MediaHandler.aspx?Media=2916871\">"
   ]
  },
  {
   "cell_type": "code",
   "execution_count": null,
   "metadata": {
    "collapsed": false
   },
   "outputs": [],
   "source": [
    "print house1['price']"
   ]
  },
  {
   "cell_type": "code",
   "execution_count": null,
   "metadata": {
    "collapsed": false
   },
   "outputs": [],
   "source": [
    "print sqft_model.predict(house1)"
   ]
  },
  {
   "cell_type": "code",
   "execution_count": null,
   "metadata": {
    "collapsed": false
   },
   "outputs": [],
   "source": [
    "print my_features_model.predict(house1)"
   ]
  },
  {
   "cell_type": "markdown",
   "metadata": {},
   "source": [
    "In this case, the model with more features provides a worse prediction than the simpler model with only 1 feature.  However, on average, the model with more features is better."
   ]
  },
  {
   "cell_type": "markdown",
   "metadata": {},
   "source": [
    "##Prediction for a second, fancier house\n",
    "\n",
    "We will now examine the predictions for a fancier house."
   ]
  },
  {
   "cell_type": "code",
   "execution_count": null,
   "metadata": {
    "collapsed": true
   },
   "outputs": [],
   "source": [
    "house2 = sales[sales['id']=='1925069082']"
   ]
  },
  {
   "cell_type": "code",
   "execution_count": null,
   "metadata": {
    "collapsed": false
   },
   "outputs": [],
   "source": [
    "house2"
   ]
  },
  {
   "cell_type": "markdown",
   "metadata": {},
   "source": [
    "<img src=\"https://ssl.cdn-redfin.com/photo/1/bigphoto/302/734302_0.jpg\">"
   ]
  },
  {
   "cell_type": "code",
   "execution_count": null,
   "metadata": {
    "collapsed": false
   },
   "outputs": [],
   "source": [
    "print sqft_model.predict(house2)"
   ]
  },
  {
   "cell_type": "code",
   "execution_count": null,
   "metadata": {
    "collapsed": false
   },
   "outputs": [],
   "source": [
    "print my_features_model.predict(house2)"
   ]
  },
  {
   "cell_type": "markdown",
   "metadata": {},
   "source": [
    "In this case, the model with more features provides a better prediction.  This behavior is expected here, because this house is more differentiated by features that go beyond its square feet of living space, especially the fact that it's a waterfront house. "
   ]
  },
  {
   "cell_type": "markdown",
   "metadata": {},
   "source": [
    "##Last house, super fancy\n",
    "\n",
    "Our last house is a very large one owned by a famous Seattleite."
   ]
  },
  {
   "cell_type": "code",
   "execution_count": null,
   "metadata": {
    "collapsed": true
   },
   "outputs": [],
   "source": [
    "bill_gates = {'bedrooms':[8], \n",
    "              'bathrooms':[25], \n",
    "              'sqft_living':[50000], \n",
    "              'sqft_lot':[225000],\n",
    "              'floors':[4], \n",
    "              'zipcode':['98039'], \n",
    "              'condition':[10], \n",
    "              'grade':[10],\n",
    "              'waterfront':[1],\n",
    "              'view':[4],\n",
    "              'sqft_above':[37500],\n",
    "              'sqft_basement':[12500],\n",
    "              'yr_built':[1994],\n",
    "              'yr_renovated':[2010],\n",
    "              'lat':[47.627606],\n",
    "              'long':[-122.242054],\n",
    "              'sqft_living15':[5000],\n",
    "              'sqft_lot15':[40000]}"
   ]
  },
  {
   "cell_type": "markdown",
   "metadata": {},
   "source": [
    "<img src=\"https://upload.wikimedia.org/wikipedia/commons/thumb/d/d9/Bill_gates%27_house.jpg/2560px-Bill_gates%27_house.jpg\">"
   ]
  },
  {
   "cell_type": "code",
   "execution_count": null,
   "metadata": {
    "collapsed": false
   },
   "outputs": [],
   "source": [
    "print my_features_model.predict(graphlab.SFrame(bill_gates))"
   ]
  },
  {
   "cell_type": "markdown",
   "metadata": {
    "collapsed": true
   },
   "source": [
    "The model predicts a price of over $13M for this house! But we expect the house to cost much more.  (There are very few samples in the dataset of houses that are this fancy, so we don't expect the model to capture a perfect prediction here.)"
   ]
  },
  {
   "cell_type": "code",
   "execution_count": null,
   "metadata": {
    "collapsed": true
   },
   "outputs": [],
   "source": []
  }
 ],
 "metadata": {
  "kernelspec": {
   "display_name": "Python 2",
   "language": "python",
   "name": "python2"
  },
  "language_info": {
   "codemirror_mode": {
    "name": "ipython",
    "version": 2
   },
   "file_extension": ".py",
   "mimetype": "text/x-python",
   "name": "python",
   "nbconvert_exporter": "python",
   "pygments_lexer": "ipython2",
   "version": "2.7.11"
  }
 },
 "nbformat": 4,
 "nbformat_minor": 0
}
