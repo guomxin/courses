{
 "cells": [
  {
   "cell_type": "code",
   "execution_count": 1,
   "metadata": {
    "collapsed": true
   },
   "outputs": [],
   "source": [
    "import graphlab"
   ]
  },
  {
   "cell_type": "code",
   "execution_count": 2,
   "metadata": {
    "collapsed": true
   },
   "outputs": [],
   "source": [
    "data_points = [[-1.88, 2.05], [-0.71, 0.42], [2.41, -0.67], [1.85, -3.8], [-3.69, -1.33]]"
   ]
  },
  {
   "cell_type": "code",
   "execution_count": 4,
   "metadata": {
    "collapsed": true
   },
   "outputs": [],
   "source": [
    "initial_centroids = [[2., 2.], [-2., -2.]]\n",
    "centroids = initial_centroids"
   ]
  },
  {
   "cell_type": "code",
   "execution_count": 6,
   "metadata": {
    "collapsed": false
   },
   "outputs": [
    {
     "data": {
      "text/plain": [
       "4.051777387764535"
      ]
     },
     "execution_count": 6,
     "metadata": {},
     "output_type": "execute_result"
    }
   ],
   "source": [
    "graphlab.toolkits.distances.euclidean(data_points[0], centroids[1])"
   ]
  },
  {
   "cell_type": "code",
   "execution_count": 16,
   "metadata": {
    "collapsed": true
   },
   "outputs": [],
   "source": [
    "def new_centroid(cluster):\n",
    "    centroid = [0, 0]\n",
    "    for i in cluster:\n",
    "        centroid[0] += data_points[i][0]\n",
    "        centroid[1] += data_points[i][1]\n",
    "    if len(cluster) > 0:\n",
    "        centroid[0] /= len(cluster)\n",
    "        centroid[1] /= len(cluster)\n",
    "    return centroid"
   ]
  },
  {
   "cell_type": "code",
   "execution_count": 17,
   "metadata": {
    "collapsed": false
   },
   "outputs": [
    {
     "name": "stdout",
     "output_type": "stream",
     "text": [
      "[0, 2] [1, 3, 4]\n",
      "[0, 1, 2] [3, 4]\n",
      "[0, 1, 2] [3, 4]\n",
      "[0, 1, 2] [3, 4]\n",
      "[0, 1, 2] [3, 4]\n",
      "[0, 1, 2] [3, 4]\n",
      "[0, 1, 2] [3, 4]\n",
      "[0, 1, 2] [3, 4]\n",
      "[0, 1, 2] [3, 4]\n",
      "[0, 1, 2] [3, 4]\n",
      "[0, 1, 2] [3, 4]\n",
      "[0, 1, 2] [3, 4]\n",
      "[0, 1, 2] [3, 4]\n",
      "[0, 1, 2] [3, 4]\n",
      "[0, 1, 2] [3, 4]\n",
      "[0, 1, 2] [3, 4]\n",
      "[0, 1, 2] [3, 4]\n",
      "[0, 1, 2] [3, 4]\n",
      "[0, 1, 2] [3, 4]\n",
      "[0, 1, 2] [3, 4]\n",
      "[0, 1, 2] [3, 4]\n",
      "[0, 1, 2] [3, 4]\n",
      "[0, 1, 2] [3, 4]\n",
      "[0, 1, 2] [3, 4]\n",
      "[0, 1, 2] [3, 4]\n",
      "[0, 1, 2] [3, 4]\n",
      "[0, 1, 2] [3, 4]\n",
      "[0, 1, 2] [3, 4]\n",
      "[0, 1, 2] [3, 4]\n",
      "[0, 1, 2] [3, 4]\n",
      "[0, 1, 2] [3, 4]\n",
      "[0, 1, 2] [3, 4]\n",
      "[0, 1, 2] [3, 4]\n",
      "[0, 1, 2] [3, 4]\n",
      "[0, 1, 2] [3, 4]\n",
      "[0, 1, 2] [3, 4]\n",
      "[0, 1, 2] [3, 4]\n",
      "[0, 1, 2] [3, 4]\n",
      "[0, 1, 2] [3, 4]\n",
      "[0, 1, 2] [3, 4]\n",
      "[0, 1, 2] [3, 4]\n",
      "[0, 1, 2] [3, 4]\n",
      "[0, 1, 2] [3, 4]\n",
      "[0, 1, 2] [3, 4]\n",
      "[0, 1, 2] [3, 4]\n",
      "[0, 1, 2] [3, 4]\n",
      "[0, 1, 2] [3, 4]\n",
      "[0, 1, 2] [3, 4]\n",
      "[0, 1, 2] [3, 4]\n",
      "[0, 1, 2] [3, 4]\n",
      "[0, 1, 2] [3, 4]\n",
      "[0, 1, 2] [3, 4]\n",
      "[0, 1, 2] [3, 4]\n",
      "[0, 1, 2] [3, 4]\n",
      "[0, 1, 2] [3, 4]\n",
      "[0, 1, 2] [3, 4]\n",
      "[0, 1, 2] [3, 4]\n",
      "[0, 1, 2] [3, 4]\n",
      "[0, 1, 2] [3, 4]\n",
      "[0, 1, 2] [3, 4]\n",
      "[0, 1, 2] [3, 4]\n",
      "[0, 1, 2] [3, 4]\n",
      "[0, 1, 2] [3, 4]\n",
      "[0, 1, 2] [3, 4]\n",
      "[0, 1, 2] [3, 4]\n",
      "[0, 1, 2] [3, 4]\n",
      "[0, 1, 2] [3, 4]\n",
      "[0, 1, 2] [3, 4]\n",
      "[0, 1, 2] [3, 4]\n",
      "[0, 1, 2] [3, 4]\n",
      "[0, 1, 2] [3, 4]\n",
      "[0, 1, 2] [3, 4]\n",
      "[0, 1, 2] [3, 4]\n",
      "[0, 1, 2] [3, 4]\n",
      "[0, 1, 2] [3, 4]\n",
      "[0, 1, 2] [3, 4]\n",
      "[0, 1, 2] [3, 4]\n",
      "[0, 1, 2] [3, 4]\n",
      "[0, 1, 2] [3, 4]\n",
      "[0, 1, 2] [3, 4]\n",
      "[0, 1, 2] [3, 4]\n",
      "[0, 1, 2] [3, 4]\n",
      "[0, 1, 2] [3, 4]\n",
      "[0, 1, 2] [3, 4]\n",
      "[0, 1, 2] [3, 4]\n",
      "[0, 1, 2] [3, 4]\n",
      "[0, 1, 2] [3, 4]\n",
      "[0, 1, 2] [3, 4]\n",
      "[0, 1, 2] [3, 4]\n",
      "[0, 1, 2] [3, 4]\n",
      "[0, 1, 2] [3, 4]\n",
      "[0, 1, 2] [3, 4]\n",
      "[0, 1, 2] [3, 4]\n",
      "[0, 1, 2] [3, 4]\n",
      "[0, 1, 2] [3, 4]\n",
      "[0, 1, 2] [3, 4]\n",
      "[0, 1, 2] [3, 4]\n",
      "[0, 1, 2] [3, 4]\n",
      "[0, 1, 2] [3, 4]\n",
      "[0, 1, 2] [3, 4]\n"
     ]
    }
   ],
   "source": [
    "max_iteration = 100\n",
    "for iter in xrange(max_iteration):\n",
    "    cluster0 = []\n",
    "    cluster1 = []\n",
    "    for i in xrange(len(data_points)):\n",
    "        distance0 = graphlab.toolkits.distances.euclidean(data_points[i], centroids[0])\n",
    "        distance1 = graphlab.toolkits.distances.euclidean(data_points[i], centroids[1])\n",
    "        if distance0 < distance1:\n",
    "            cluster0.append(i)\n",
    "        else:\n",
    "            cluster1.append(i)\n",
    "    print cluster0, cluster1\n",
    "    centroids[0] = new_centroid(cluster0)\n",
    "    centroids[1] = new_centroid(cluster1)"
   ]
  },
  {
   "cell_type": "code",
   "execution_count": null,
   "metadata": {
    "collapsed": true
   },
   "outputs": [],
   "source": []
  }
 ],
 "metadata": {
  "kernelspec": {
   "display_name": "Python 2",
   "language": "python",
   "name": "python2"
  },
  "language_info": {
   "codemirror_mode": {
    "name": "ipython",
    "version": 2
   },
   "file_extension": ".py",
   "mimetype": "text/x-python",
   "name": "python",
   "nbconvert_exporter": "python",
   "pygments_lexer": "ipython2",
   "version": "2.7.11"
  }
 },
 "nbformat": 4,
 "nbformat_minor": 0
}
